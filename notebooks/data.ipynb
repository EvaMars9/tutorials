{
 "cells": [
  {
   "cell_type": "code",
   "execution_count": null,
   "id": "034a95a9-54f8-4196-b014-6f49ffe07884",
   "metadata": {},
   "outputs": [],
   "source": [
    "%load_ext lab_black"
   ]
  },
  {
   "cell_type": "markdown",
   "id": "3ae46817-6f68-455b-9dc6-9bf077edf1da",
   "metadata": {},
   "source": [
    "# Explore `data` (WIP)"
   ]
  },
  {
   "cell_type": "code",
   "execution_count": null,
   "id": "d2d3a379-ad53-4cbe-978b-a8ef1b7cd380",
   "metadata": {},
   "outputs": [],
   "source": [
    "from glob import glob\n",
    "import pandas as pd\n",
    "from statics import DATA_PATH"
   ]
  },
  {
   "cell_type": "code",
   "execution_count": null,
   "id": "3bb3d22b-c6ef-43ab-96ae-787b435aa911",
   "metadata": {},
   "outputs": [],
   "source": [
    "data_files = sorted(glob(f\"{DATA_PATH}/*csv\"))"
   ]
  },
  {
   "cell_type": "code",
   "execution_count": null,
   "id": "43a068e6-b3ae-4dc7-a5cc-ef43b024fbdf",
   "metadata": {},
   "outputs": [],
   "source": [
    "agg, cast, raw = data_files[:3]"
   ]
  },
  {
   "cell_type": "code",
   "execution_count": null,
   "id": "3704a96d-b957-4cc4-bb2b-9cc922df5fa1",
   "metadata": {},
   "outputs": [],
   "source": [
    "cast_df = pd.read_csv(cast)\n",
    "cast_df.head()"
   ]
  },
  {
   "cell_type": "code",
   "execution_count": null,
   "id": "7a0f36a6-a424-44fe-bc60-d14e555cdeb6",
   "metadata": {},
   "outputs": [],
   "source": [
    "raw_df = pd.read_csv(raw, low_memory=False)\n",
    "raw_df.head()"
   ]
  },
  {
   "cell_type": "code",
   "execution_count": null,
   "id": "08736a37-c5a5-48ae-8e4a-ad5d7f07d26b",
   "metadata": {},
   "outputs": [],
   "source": [
    "agg_df = pd.read_csv(agg)\n",
    "agg_df.head()"
   ]
  },
  {
   "cell_type": "code",
   "execution_count": null,
   "id": "385cf24b-b279-4aa6-99da-9484d77f1eef",
   "metadata": {},
   "outputs": [],
   "source": []
  }
 ],
 "metadata": {
  "kernelspec": {
   "display_name": "Python 3 (ipykernel)",
   "language": "python",
   "name": "python3"
  },
  "language_info": {
   "codemirror_mode": {
    "name": "ipython",
    "version": 3
   },
   "file_extension": ".py",
   "mimetype": "text/x-python",
   "name": "python",
   "nbconvert_exporter": "python",
   "pygments_lexer": "ipython3",
   "version": "3.9.12"
  }
 },
 "nbformat": 4,
 "nbformat_minor": 5
}
