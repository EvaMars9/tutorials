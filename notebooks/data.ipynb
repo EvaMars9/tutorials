{
 "cells": [
  {
   "cell_type": "code",
   "execution_count": 1,
   "id": "034a95a9-54f8-4196-b014-6f49ffe07884",
   "metadata": {},
   "outputs": [],
   "source": [
    "%load_ext lab_black"
   ]
  },
  {
   "cell_type": "markdown",
   "id": "3ae46817-6f68-455b-9dc6-9bf077edf1da",
   "metadata": {},
   "source": [
    "# Explore `data`"
   ]
  },
  {
   "cell_type": "code",
   "execution_count": null,
   "id": "43a068e6-b3ae-4dc7-a5cc-ef43b024fbdf",
   "metadata": {},
   "outputs": [],
   "source": []
  }
 ],
 "metadata": {
  "kernelspec": {
   "display_name": "Python 3 (ipykernel)",
   "language": "python",
   "name": "python3"
  },
  "language_info": {
   "codemirror_mode": {
    "name": "ipython",
    "version": 3
   },
   "file_extension": ".py",
   "mimetype": "text/x-python",
   "name": "python",
   "nbconvert_exporter": "python",
   "pygments_lexer": "ipython3",
   "version": "3.9.12"
  }
 },
 "nbformat": 4,
 "nbformat_minor": 5
}
