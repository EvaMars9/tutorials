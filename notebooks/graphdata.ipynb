{
 "cells": [
  {
   "cell_type": "code",
   "execution_count": null,
   "id": "c57ce8ec-a773-44f2-91ea-74073a556a21",
   "metadata": {},
   "outputs": [],
   "source": [
    "%load_ext lab_black"
   ]
  },
  {
   "cell_type": "markdown",
   "id": "9a45dfe9-d452-4536-a583-facc72cc7c6b",
   "metadata": {},
   "source": [
    "# Explore `graphdata` (WIP)"
   ]
  },
  {
   "cell_type": "code",
   "execution_count": null,
   "id": "30653bc2-0599-4606-a561-5359afece2d9",
   "metadata": {},
   "outputs": [],
   "source": [
    "from glob import glob\n",
    "import pandas as pd\n",
    "from statics import GRAPHDATA_PATH"
   ]
  },
  {
   "cell_type": "code",
   "execution_count": null,
   "id": "a4f970e8-7574-43ab-b27a-ffac65e90294",
   "metadata": {},
   "outputs": [],
   "source": [
    "graphdata_files = sorted(glob(f\"{GRAPHDATA_PATH}/*csv\"))"
   ]
  },
  {
   "cell_type": "code",
   "execution_count": null,
   "id": "e64e2ce7-b7a9-4ee6-b4cd-59bc4503f8df",
   "metadata": {},
   "outputs": [],
   "source": [
    "graphdata_files[:19]"
   ]
  },
  {
   "cell_type": "code",
   "execution_count": null,
   "id": "1fd47567-740f-4e2a-a44f-e54dc0eea620",
   "metadata": {},
   "outputs": [],
   "source": [
    "ce_nodes = pd.read_csv(f\"{GRAPHDATA_PATH}/a-midsummer-nights-dream_ce.nodes.csv\")\n",
    "ce_nodes.head()"
   ]
  },
  {
   "cell_type": "code",
   "execution_count": null,
   "id": "b5b3b408-8ce5-49e6-ae2f-fce1d5f6fc5d",
   "metadata": {},
   "outputs": [],
   "source": [
    "ce_scene_mw_edges = pd.read_csv(\n",
    "    f\"{GRAPHDATA_PATH}/a-midsummer-nights-dream_ce-scene-mw.edges.csv\"\n",
    ")\n",
    "ce_scene_mw_edges.head()"
   ]
  },
  {
   "cell_type": "code",
   "execution_count": null,
   "id": "000a72e7-6076-4c25-b2db-14c049638f38",
   "metadata": {},
   "outputs": [],
   "source": [
    "ce_group_mw_edges = pd.read_csv(\n",
    "    f\"{GRAPHDATA_PATH}/a-midsummer-nights-dream_ce-group-mw.edges.csv\"\n",
    ")\n",
    "ce_group_mw_edges.head()"
   ]
  },
  {
   "cell_type": "code",
   "execution_count": null,
   "id": "52668223-389c-47fc-a6a6-6c11c622659e",
   "metadata": {},
   "outputs": [],
   "source": []
  }
 ],
 "metadata": {
  "kernelspec": {
   "display_name": "Python 3 (ipykernel)",
   "language": "python",
   "name": "python3"
  },
  "language_info": {
   "codemirror_mode": {
    "name": "ipython",
    "version": 3
   },
   "file_extension": ".py",
   "mimetype": "text/x-python",
   "name": "python",
   "nbconvert_exporter": "python",
   "pygments_lexer": "ipython3",
   "version": "3.9.12"
  }
 },
 "nbformat": 4,
 "nbformat_minor": 5
}
