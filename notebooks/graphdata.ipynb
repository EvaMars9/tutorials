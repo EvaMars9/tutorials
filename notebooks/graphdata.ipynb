{
 "cells": [
  {
   "cell_type": "markdown",
   "id": "39d2d627-2abd-4f1f-9ba1-7359fc88e341",
   "metadata": {},
   "source": [
    "# Loading the Hyperbard data"
   ]
  },
  {
   "cell_type": "code",
   "execution_count": null,
   "id": "3264b3e5-1d5b-43a6-9f29-cdb4b6b100e9",
   "metadata": {},
   "outputs": [],
   "source": [
    "from statics import RAWDATA_PATH, DATA_PATH, GRAPHDATA_PATH, META_PATH\n",
    "from glob import glob\n",
    "import pandas as pd"
   ]
  },
  {
   "cell_type": "markdown",
   "id": "a864a135-3e03-47c7-bbff-f341f98316a9",
   "metadata": {},
   "source": [
    "### Metadata"
   ]
  },
  {
   "cell_type": "code",
   "execution_count": null,
   "id": "dc04f8d2-cc54-4ddf-9f64-6373377af777",
   "metadata": {},
   "outputs": [],
   "source": [
    "df = pd.read_csv(f\"{META_PATH}/playtypes.csv\", comment=\"#\")\n",
    "df.head()"
   ]
  },
  {
   "cell_type": "code",
   "execution_count": null,
   "id": "2841d943-dab8-463c-9a49-569d70362b7f",
   "metadata": {},
   "outputs": [],
   "source": [
    "play_names = list(df.play_name)\n",
    "play_names"
   ]
  },
  {
   "cell_type": "code",
   "execution_count": null,
   "id": "2931a972-2ac9-4f7c-8c1b-6dd6842d77ea",
   "metadata": {},
   "outputs": [],
   "source": [
    "df.groupby(\"play_type\").count()"
   ]
  },
  {
   "cell_type": "code",
   "execution_count": null,
   "id": "aa202517-c1a9-4a0c-92df-213bd22bbe5b",
   "metadata": {},
   "outputs": [],
   "source": []
  }
 ],
 "metadata": {
  "kernelspec": {
   "display_name": "Python 3 (ipykernel)",
   "language": "python",
   "name": "python3"
  },
  "language_info": {
   "codemirror_mode": {
    "name": "ipython",
    "version": 3
   },
   "file_extension": ".py",
   "mimetype": "text/x-python",
   "name": "python",
   "nbconvert_exporter": "python",
   "pygments_lexer": "ipython3",
   "version": "3.9.12"
  }
 },
 "nbformat": 4,
 "nbformat_minor": 5
}
