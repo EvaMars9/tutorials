{
 "cells": [
  {
   "cell_type": "markdown",
   "id": "39d2d627-2abd-4f1f-9ba1-7359fc88e341",
   "metadata": {},
   "source": [
    "# Getting to know the data"
   ]
  },
  {
   "cell_type": "code",
   "execution_count": 9,
   "id": "3264b3e5-1d5b-43a6-9f29-cdb4b6b100e9",
   "metadata": {},
   "outputs": [],
   "source": [
    "from statics import RAWDATA_PATH, DATA_PATH, GRAPHDATA_PATH, META_PATH\n",
    "from glob import glob\n",
    "import pandas as pd"
   ]
  },
  {
   "cell_type": "markdown",
   "id": "a864a135-3e03-47c7-bbff-f341f98316a9",
   "metadata": {},
   "source": [
    "### Metadata"
   ]
  },
  {
   "cell_type": "code",
   "execution_count": 20,
   "id": "dc04f8d2-cc54-4ddf-9f64-6373377af777",
   "metadata": {},
   "outputs": [
    {
     "data": {
      "text/html": [
       "<div>\n",
       "<style scoped>\n",
       "    .dataframe tbody tr th:only-of-type {\n",
       "        vertical-align: middle;\n",
       "    }\n",
       "\n",
       "    .dataframe tbody tr th {\n",
       "        vertical-align: top;\n",
       "    }\n",
       "\n",
       "    .dataframe thead th {\n",
       "        text-align: right;\n",
       "    }\n",
       "</style>\n",
       "<table border=\"1\" class=\"dataframe\">\n",
       "  <thead>\n",
       "    <tr style=\"text-align: right;\">\n",
       "      <th></th>\n",
       "      <th>play_name</th>\n",
       "      <th>play_type</th>\n",
       "    </tr>\n",
       "  </thead>\n",
       "  <tbody>\n",
       "    <tr>\n",
       "      <th>0</th>\n",
       "      <td>alls-well-that-ends-well</td>\n",
       "      <td>comedy</td>\n",
       "    </tr>\n",
       "    <tr>\n",
       "      <th>1</th>\n",
       "      <td>a-midsummer-nights-dream</td>\n",
       "      <td>comedy</td>\n",
       "    </tr>\n",
       "    <tr>\n",
       "      <th>2</th>\n",
       "      <td>antony-and-cleopatra</td>\n",
       "      <td>tragedy</td>\n",
       "    </tr>\n",
       "    <tr>\n",
       "      <th>3</th>\n",
       "      <td>as-you-like-it</td>\n",
       "      <td>comedy</td>\n",
       "    </tr>\n",
       "    <tr>\n",
       "      <th>4</th>\n",
       "      <td>coriolanus</td>\n",
       "      <td>tragedy</td>\n",
       "    </tr>\n",
       "  </tbody>\n",
       "</table>\n",
       "</div>"
      ],
      "text/plain": [
       "                  play_name play_type\n",
       "0  alls-well-that-ends-well    comedy\n",
       "1  a-midsummer-nights-dream    comedy\n",
       "2      antony-and-cleopatra   tragedy\n",
       "3            as-you-like-it    comedy\n",
       "4                coriolanus   tragedy"
      ]
     },
     "execution_count": 20,
     "metadata": {},
     "output_type": "execute_result"
    }
   ],
   "source": [
    "df = pd.read_csv(f\"{META_PATH}/playtypes.csv\", comment=\"#\")\n",
    "df.head()"
   ]
  },
  {
   "cell_type": "code",
   "execution_count": 22,
   "id": "2841d943-dab8-463c-9a49-569d70362b7f",
   "metadata": {},
   "outputs": [
    {
     "data": {
      "text/plain": [
       "['alls-well-that-ends-well',\n",
       " 'a-midsummer-nights-dream',\n",
       " 'antony-and-cleopatra',\n",
       " 'as-you-like-it',\n",
       " 'coriolanus',\n",
       " 'cymbeline',\n",
       " 'hamlet',\n",
       " 'henry-iv-part-1',\n",
       " 'henry-iv-part-2',\n",
       " 'henry-viii',\n",
       " 'henry-vi-part-1',\n",
       " 'henry-vi-part-2',\n",
       " 'henry-vi-part-3',\n",
       " 'henry-v',\n",
       " 'julius-caesar',\n",
       " 'king-john',\n",
       " 'king-lear',\n",
       " 'loves-labors-lost',\n",
       " 'macbeth',\n",
       " 'measure-for-measure',\n",
       " 'much-ado-about-nothing',\n",
       " 'othello',\n",
       " 'pericles',\n",
       " 'richard-iii',\n",
       " 'richard-ii',\n",
       " 'romeo-and-juliet',\n",
       " 'the-comedy-of-errors',\n",
       " 'the-merchant-of-venice',\n",
       " 'the-merry-wives-of-windsor',\n",
       " 'the-taming-of-the-shrew',\n",
       " 'the-tempest',\n",
       " 'the-two-gentlemen-of-verona',\n",
       " 'the-winters-tale',\n",
       " 'timon-of-athens',\n",
       " 'titus-andronicus',\n",
       " 'troilus-and-cressida',\n",
       " 'twelfth-night']"
      ]
     },
     "execution_count": 22,
     "metadata": {},
     "output_type": "execute_result"
    }
   ],
   "source": [
    "play_names = list(df.play_name)\n",
    "play_names"
   ]
  },
  {
   "cell_type": "code",
   "execution_count": 19,
   "id": "2931a972-2ac9-4f7c-8c1b-6dd6842d77ea",
   "metadata": {},
   "outputs": [
    {
     "data": {
      "text/html": [
       "<div>\n",
       "<style scoped>\n",
       "    .dataframe tbody tr th:only-of-type {\n",
       "        vertical-align: middle;\n",
       "    }\n",
       "\n",
       "    .dataframe tbody tr th {\n",
       "        vertical-align: top;\n",
       "    }\n",
       "\n",
       "    .dataframe thead th {\n",
       "        text-align: right;\n",
       "    }\n",
       "</style>\n",
       "<table border=\"1\" class=\"dataframe\">\n",
       "  <thead>\n",
       "    <tr style=\"text-align: right;\">\n",
       "      <th></th>\n",
       "      <th>play_name</th>\n",
       "    </tr>\n",
       "    <tr>\n",
       "      <th>play_type</th>\n",
       "      <th></th>\n",
       "    </tr>\n",
       "  </thead>\n",
       "  <tbody>\n",
       "    <tr>\n",
       "      <th>comedy</th>\n",
       "      <td>17</td>\n",
       "    </tr>\n",
       "    <tr>\n",
       "      <th>history</th>\n",
       "      <td>10</td>\n",
       "    </tr>\n",
       "    <tr>\n",
       "      <th>tragedy</th>\n",
       "      <td>10</td>\n",
       "    </tr>\n",
       "  </tbody>\n",
       "</table>\n",
       "</div>"
      ],
      "text/plain": [
       "           play_name\n",
       "play_type           \n",
       "comedy            17\n",
       "history           10\n",
       "tragedy           10"
      ]
     },
     "execution_count": 19,
     "metadata": {},
     "output_type": "execute_result"
    }
   ],
   "source": [
    "df.groupby(\"play_type\").count()"
   ]
  },
  {
   "cell_type": "code",
   "execution_count": null,
   "id": "aa202517-c1a9-4a0c-92df-213bd22bbe5b",
   "metadata": {},
   "outputs": [],
   "source": []
  }
 ],
 "metadata": {
  "kernelspec": {
   "display_name": "Python 3 (ipykernel)",
   "language": "python",
   "name": "python3"
  },
  "language_info": {
   "codemirror_mode": {
    "name": "ipython",
    "version": 3
   },
   "file_extension": ".py",
   "mimetype": "text/x-python",
   "name": "python",
   "nbconvert_exporter": "python",
   "pygments_lexer": "ipython3",
   "version": "3.9.12"
  }
 },
 "nbformat": 4,
 "nbformat_minor": 5
}