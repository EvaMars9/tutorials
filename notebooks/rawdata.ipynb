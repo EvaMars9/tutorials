{
 "cells": [
  {
   "cell_type": "code",
   "execution_count": null,
   "id": "953d5b71-a16f-4ddf-88cb-b3f34bb3c189",
   "metadata": {},
   "outputs": [],
   "source": [
    "%load_ext lab_black"
   ]
  },
  {
   "cell_type": "markdown",
   "id": "e32e4fac-5bc4-4945-b1e5-dc2287f00208",
   "metadata": {},
   "source": [
    "# Explore `rawdata`"
   ]
  },
  {
   "cell_type": "code",
   "execution_count": null,
   "id": "4d75dbd7-f8b2-4192-90c8-d8f767121bfc",
   "metadata": {},
   "outputs": [],
   "source": [
    "from glob import glob\n",
    "from bs4 import BeautifulSoup\n",
    "from statics import RAWDATA_PATH"
   ]
  },
  {
   "cell_type": "code",
   "execution_count": null,
   "id": "a1d22815-a639-413b-b455-8d0d50b73664",
   "metadata": {},
   "outputs": [],
   "source": [
    "rawdata_files = sorted(glob(f\"{RAWDATA_PATH}/*\"))"
   ]
  },
  {
   "cell_type": "code",
   "execution_count": null,
   "id": "4af1dd6c-94c2-4c3b-a122-4683ad16c67f",
   "metadata": {},
   "outputs": [],
   "source": [
    "play_raw = rawdata_files[0]"
   ]
  },
  {
   "cell_type": "code",
   "execution_count": null,
   "id": "ce848add-ec0f-4569-9a2d-3a0c79f91829",
   "metadata": {},
   "outputs": [],
   "source": [
    "with open(play_raw) as f:\n",
    "    soup = BeautifulSoup(f, \"lxml-xml\")"
   ]
  },
  {
   "cell_type": "markdown",
   "id": "1c27cfb1-caa7-4c72-bdb6-f44ca3288d62",
   "metadata": {},
   "source": [
    "The raw data (as provided by [Folger Digital Texts](https://shakespeare.folger.edu/download-the-folger-shakespeare-complete-set/)) looks like this:"
   ]
  },
  {
   "cell_type": "code",
   "execution_count": null,
   "id": "a01f0381-daf6-4dd0-bdcc-354ef0478017",
   "metadata": {},
   "outputs": [],
   "source": [
    "soup.find(\"stage\")  # stage direction"
   ]
  },
  {
   "cell_type": "code",
   "execution_count": null,
   "id": "ac1be549-5890-4985-b251-3e9daf96fdeb",
   "metadata": {},
   "outputs": [],
   "source": [
    "soup.find(\"sp\")  # speech"
   ]
  },
  {
   "cell_type": "markdown",
   "id": "c33e6635-5c71-4fc2-a820-824d03be51f3",
   "metadata": {},
   "source": [
    "Note the use of the \"who\" attribute to indicate who enters (in the stage direction) resp. speaks (in the speech), and how the speaker information is effectively encoded twice (in the \"who\" attribute and in the \"speaker\" tag)."
   ]
  }
 ],
 "metadata": {
  "kernelspec": {
   "display_name": "Python 3 (ipykernel)",
   "language": "python",
   "name": "python3"
  },
  "language_info": {
   "codemirror_mode": {
    "name": "ipython",
    "version": 3
   },
   "file_extension": ".py",
   "mimetype": "text/x-python",
   "name": "python",
   "nbconvert_exporter": "python",
   "pygments_lexer": "ipython3",
   "version": "3.9.12"
  }
 },
 "nbformat": 4,
 "nbformat_minor": 5
}
