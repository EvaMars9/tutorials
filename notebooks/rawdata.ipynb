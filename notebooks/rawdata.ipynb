{
 "cells": [
  {
   "cell_type": "code",
   "execution_count": 1,
   "id": "953d5b71-a16f-4ddf-88cb-b3f34bb3c189",
   "metadata": {},
   "outputs": [],
   "source": [
    "%load_ext lab_black"
   ]
  },
  {
   "cell_type": "markdown",
   "id": "e32e4fac-5bc4-4945-b1e5-dc2287f00208",
   "metadata": {},
   "source": [
    "# Explore `rawdata` 🎭"
   ]
  },
  {
   "cell_type": "markdown",
   "id": "cc1cc722-f75b-4394-9e6c-7a810778f6d9",
   "metadata": {},
   "source": [
    "The raw data, as provided by [Folger Digital Texts](https://shakespeare.folger.edu/download-the-folger-shakespeare-complete-set/), comes in TEI Simple-encoded XML files. \n",
    "\n",
    "These files can be parsed using the XML parser provided by BeautifulSoup:"
   ]
  },
  {
   "cell_type": "code",
   "execution_count": 2,
   "id": "4d75dbd7-f8b2-4192-90c8-d8f767121bfc",
   "metadata": {},
   "outputs": [],
   "source": [
    "from glob import glob\n",
    "import regex as re\n",
    "\n",
    "from bs4 import BeautifulSoup\n",
    "import pandas as pd\n",
    "\n",
    "from statics import RAWDATA_PATH"
   ]
  },
  {
   "cell_type": "code",
   "execution_count": 3,
   "id": "a1d22815-a639-413b-b455-8d0d50b73664",
   "metadata": {},
   "outputs": [],
   "source": [
    "rawdata_files = sorted(glob(f\"{RAWDATA_PATH}/*.xml\"))"
   ]
  },
  {
   "cell_type": "code",
   "execution_count": 4,
   "id": "4af1dd6c-94c2-4c3b-a122-4683ad16c67f",
   "metadata": {},
   "outputs": [],
   "source": [
    "play_raw = rawdata_files[0]"
   ]
  },
  {
   "cell_type": "code",
   "execution_count": 5,
   "id": "ce848add-ec0f-4569-9a2d-3a0c79f91829",
   "metadata": {},
   "outputs": [],
   "source": [
    "with open(play_raw) as f:\n",
    "    soup = BeautifulSoup(f, \"lxml-xml\")"
   ]
  },
  {
   "cell_type": "markdown",
   "id": "da7fb237-5000-438d-8303-598c3878871b",
   "metadata": {},
   "source": [
    "## Data Format"
   ]
  },
  {
   "cell_type": "markdown",
   "id": "1c27cfb1-caa7-4c72-bdb6-f44ca3288d62",
   "metadata": {},
   "source": [
    "The parsed data looks like this:"
   ]
  },
  {
   "cell_type": "code",
   "execution_count": 6,
   "id": "a01f0381-daf6-4dd0-bdcc-354ef0478017",
   "metadata": {
    "scrolled": true,
    "tags": []
   },
   "outputs": [
    {
     "data": {
      "text/plain": [
       "<stage n=\"SD 1.1.0\" type=\"entrance\" who=\"#Theseus_MND #Hippolyta_MND #Philostrate_MND #ATTENDANTS_MND\" xml:id=\"stg-0000\">\n",
       "<w n=\"SD 1.1.0\" xml:id=\"fs-mnd-0000070\">Enter</w>\n",
       "<c> </c>\n",
       "<w n=\"SD 1.1.0\" xml:id=\"fs-mnd-0000090\">Theseus</w>\n",
       "<pc n=\"SD 1.1.0\" xml:id=\"fs-mnd-0000100\">,</pc>\n",
       "<c> </c>\n",
       "<w n=\"SD 1.1.0\" xml:id=\"fs-mnd-0000120\">Hippolyta</w>\n",
       "<pc n=\"SD 1.1.0\" xml:id=\"fs-mnd-0000130\">,</pc>\n",
       "<c> </c>\n",
       "<w n=\"SD 1.1.0\" xml:id=\"fs-mnd-0000150\">and</w>\n",
       "<c> </c>\n",
       "<w n=\"SD 1.1.0\" xml:id=\"fs-mnd-0000170\">Philostrate</w>\n",
       "<pc n=\"SD 1.1.0\" xml:id=\"fs-mnd-0000180\">,</pc>\n",
       "<c> </c>\n",
       "<w n=\"SD 1.1.0\" xml:id=\"fs-mnd-0000200\">with</w>\n",
       "<c> </c>\n",
       "<w n=\"SD 1.1.0\" xml:id=\"fs-mnd-0000220\">others</w>\n",
       "<pc n=\"SD 1.1.0\" xml:id=\"fs-mnd-0000230\">.</pc>\n",
       "</stage>"
      ]
     },
     "execution_count": 6,
     "metadata": {},
     "output_type": "execute_result"
    }
   ],
   "source": [
    "soup.find(\"stage\")  # stage direction"
   ]
  },
  {
   "cell_type": "code",
   "execution_count": 7,
   "id": "ac1be549-5890-4985-b251-3e9daf96fdeb",
   "metadata": {
    "scrolled": true,
    "tags": []
   },
   "outputs": [
    {
     "data": {
      "text/plain": [
       "<sp who=\"#Theseus_MND\" xml:id=\"sp-0001\">\n",
       "<speaker xml:id=\"spk-0001\">\n",
       "<w xml:id=\"fs-mnd-0000240\">THESEUS</w>\n",
       "</speaker>\n",
       "<l n=\"1.1.1\" xml:id=\"ftln-0001\">\n",
       "<w ana=\"#av\" lemma=\"now\" n=\"1.1.1\" xml:id=\"fs-mnd-0000250\">Now</w>\n",
       "<pc n=\"1.1.1\" xml:id=\"fs-mnd-0000260\">,</pc>\n",
       "<c> </c>\n",
       "<w ana=\"#j\" lemma=\"fair\" n=\"1.1.1\" xml:id=\"fs-mnd-0000280\">fair</w>\n",
       "<c> </c>\n",
       "<w ana=\"#n1-nn\" lemma=\"Hippolyta\" n=\"1.1.1\" xml:id=\"fs-mnd-0000300\">Hippolyta</w>\n",
       "<pc n=\"1.1.1\" xml:id=\"fs-mnd-0000310\">,</pc>\n",
       "<c> </c>\n",
       "<w ana=\"#po\" lemma=\"our\" n=\"1.1.1\" xml:id=\"fs-mnd-0000330\">our</w>\n",
       "<c> </c>\n",
       "<w ana=\"#j\" lemma=\"nuptial\" n=\"1.1.1\" xml:id=\"fs-mnd-0000350\">nuptial</w>\n",
       "<c> </c>\n",
       "<w ana=\"#n1\" lemma=\"hour\" n=\"1.1.1\" xml:id=\"fs-mnd-0000370\">hour</w>\n",
       "</l>\n",
       "<l n=\"1.1.2\" xml:id=\"ftln-0002\">\n",
       "<w ana=\"#vvz\" lemma=\"draw\" n=\"1.1.2\" xml:id=\"fs-mnd-0000380\">Draws</w>\n",
       "<c> </c>\n",
       "<w ana=\"#acp-p\" lemma=\"on\" n=\"1.1.2\" xml:id=\"fs-mnd-0000400\">on</w>\n",
       "<c> </c>\n",
       "<w ana=\"#av\" lemma=\"apace\" n=\"1.1.2\" xml:id=\"fs-mnd-0000420\">apace</w>\n",
       "<pc n=\"1.1.2\" xml:id=\"fs-mnd-0000430\">.</pc>\n",
       "<c> </c>\n",
       "<w ana=\"#crd\" lemma=\"four\" n=\"1.1.2\" xml:id=\"fs-mnd-0000450\">Four</w>\n",
       "<c> </c>\n",
       "<w ana=\"#j\" lemma=\"happy\" n=\"1.1.2\" xml:id=\"fs-mnd-0000470\">happy</w>\n",
       "<c> </c>\n",
       "<w ana=\"#n2\" lemma=\"day\" n=\"1.1.2\" xml:id=\"fs-mnd-0000490\">days</w>\n",
       "<c> </c>\n",
       "<w ana=\"#vvb\" lemma=\"bring\" n=\"1.1.2\" xml:id=\"fs-mnd-0000510\">bring</w>\n",
       "<c> </c>\n",
       "<w ana=\"#acp-p\" lemma=\"in\" n=\"1.1.2\" xml:id=\"fs-mnd-0000530\">in</w>\n",
       "</l>\n",
       "<l n=\"1.1.3\" xml:id=\"ftln-0003\">\n",
       "<w ana=\"#d\" lemma=\"another\" n=\"1.1.3\" xml:id=\"fs-mnd-0000540\">Another</w>\n",
       "<c> </c>\n",
       "<w ana=\"#n1\" lemma=\"moon\" n=\"1.1.3\" xml:id=\"fs-mnd-0000560\">moon</w>\n",
       "<pc n=\"1.1.3\" xml:id=\"fs-mnd-0000570\">.</pc>\n",
       "<c> </c>\n",
       "<w ana=\"#acp-cc\" lemma=\"but\" n=\"1.1.3\" xml:id=\"fs-mnd-0000590\">But</w>\n",
       "<pc n=\"1.1.3\" xml:id=\"fs-mnd-0000600\">,</pc>\n",
       "<c> </c>\n",
       "<w ana=\"#uh\" lemma=\"oh\" n=\"1.1.3\" xml:id=\"fs-mnd-0000620\">O</w>\n",
       "<pc n=\"1.1.3\" xml:id=\"fs-mnd-0000630\">,</pc>\n",
       "<c> </c>\n",
       "<w ana=\"#vvz\" lemma=\"methinks\" n=\"1.1.3\" xml:id=\"fs-mnd-0000650\">methinks</w>\n",
       "<c> </c>\n",
       "<w ana=\"#crq-cs\" lemma=\"how\" n=\"1.1.3\" xml:id=\"fs-mnd-0000670\">how</w>\n",
       "<c> </c>\n",
       "<w ana=\"#j\" lemma=\"slow\" n=\"1.1.3\" xml:id=\"fs-mnd-0000690\">slow</w>\n",
       "</l>\n",
       "<l n=\"1.1.4\" xml:id=\"ftln-0004\">\n",
       "<w ana=\"#d\" lemma=\"this\" n=\"1.1.4\" xml:id=\"fs-mnd-0000700\">This</w>\n",
       "<c> </c>\n",
       "<w ana=\"#j\" lemma=\"old\" n=\"1.1.4\" xml:id=\"fs-mnd-0000720\">old</w>\n",
       "<c> </c>\n",
       "<w ana=\"#n1\" lemma=\"moon\" n=\"1.1.4\" xml:id=\"fs-mnd-0000740\">moon</w>\n",
       "<c> </c>\n",
       "<w ana=\"#vvz\" lemma=\"wane\" n=\"1.1.4\" xml:id=\"fs-mnd-0000760\">wanes</w>\n",
       "<pc n=\"1.1.4\" xml:id=\"fs-mnd-0000770\">!</pc>\n",
       "<c> </c>\n",
       "<w ana=\"#pns\" lemma=\"she\" n=\"1.1.4\" xml:id=\"fs-mnd-0000790\">She</w>\n",
       "<c> </c>\n",
       "<w ana=\"#vvz\" lemma=\"linger\" n=\"1.1.4\" xml:id=\"fs-mnd-0000810\">lingers</w>\n",
       "<c> </c>\n",
       "<w ana=\"#po\" lemma=\"my\" n=\"1.1.4\" xml:id=\"fs-mnd-0000830\">my</w>\n",
       "<c> </c>\n",
       "<w ana=\"#n2\" lemma=\"desire\" n=\"1.1.4\" xml:id=\"fs-mnd-0000850\">desires</w>\n",
       "</l>\n",
       "<l n=\"1.1.5\" xml:id=\"ftln-0005\">\n",
       "<w ana=\"#acp-p\" lemma=\"like\" n=\"1.1.5\" xml:id=\"fs-mnd-0000860\">Like</w>\n",
       "<c> </c>\n",
       "<w ana=\"#acp-p\" lemma=\"to\" n=\"1.1.5\" xml:id=\"fs-mnd-0000880\">to</w>\n",
       "<c> </c>\n",
       "<w ana=\"#d\" lemma=\"a\" n=\"1.1.5\" xml:id=\"fs-mnd-0000900\">a</w>\n",
       "<c> </c>\n",
       "<w ana=\"#n1\" lemma=\"stepdame\" n=\"1.1.5\" xml:id=\"fs-mnd-0000920\">stepdame</w>\n",
       "<c> </c>\n",
       "<w ana=\"#cc\" lemma=\"or\" n=\"1.1.5\" xml:id=\"fs-mnd-0000940\">or</w>\n",
       "<c> </c>\n",
       "<w ana=\"#d\" lemma=\"a\" n=\"1.1.5\" xml:id=\"fs-mnd-0000960\">a</w>\n",
       "<c> </c>\n",
       "<w ana=\"#n1\" lemma=\"dowager\" n=\"1.1.5\" xml:id=\"fs-mnd-0000980\">dowager</w>\n",
       "</l>\n",
       "<l n=\"1.1.6\" xml:id=\"ftln-0006\">\n",
       "<w ana=\"#av_j\" lemma=\"long\" n=\"1.1.6\" xml:id=\"fs-mnd-0000990\">Long</w>\n",
       "<c> </c>\n",
       "<w ana=\"#vvg\" lemma=\"wither\" n=\"1.1.6\" xml:id=\"fs-mnd-0001010\">withering</w>\n",
       "<c> </c>\n",
       "<w ana=\"#av\" lemma=\"out\" n=\"1.1.6\" xml:id=\"fs-mnd-0001030\">out</w>\n",
       "<c> </c>\n",
       "<w ana=\"#d\" lemma=\"a\" n=\"1.1.6\" xml:id=\"fs-mnd-0001050\">a</w>\n",
       "<c> </c>\n",
       "<w ana=\"#j\" lemma=\"young\" n=\"1.1.6\" xml:id=\"fs-mnd-0001070\">young</w>\n",
       "<c> </c>\n",
       "<w ana=\"#n1g\" lemma=\"man\" n=\"1.1.6\" xml:id=\"fs-mnd-0001090\">man’s</w>\n",
       "<c> </c>\n",
       "<w ana=\"#n1\" lemma=\"revenue\" n=\"1.1.6\" xml:id=\"fs-mnd-0001110\">revenue</w>\n",
       "<pc n=\"1.1.6\" xml:id=\"fs-mnd-0001120\">.</pc>\n",
       "</l>\n",
       "</sp>"
      ]
     },
     "execution_count": 7,
     "metadata": {},
     "output_type": "execute_result"
    }
   ],
   "source": [
    "soup.find(\"sp\")  # speech"
   ]
  },
  {
   "cell_type": "markdown",
   "id": "c33e6635-5c71-4fc2-a820-824d03be51f3",
   "metadata": {},
   "source": [
    "Note the use of the \"who\" attribute to indicate who enters (in the stage direction) resp. speaks (in the speech), and how the speaker information is effectively encoded twice (in the \"who\" attribute and in the \"speaker\" tag)."
   ]
  },
  {
   "cell_type": "markdown",
   "id": "4059fb3a-76e6-4307-a8fe-2e31191f7b5c",
   "metadata": {},
   "source": [
    "## Some Explorations"
   ]
  },
  {
   "cell_type": "markdown",
   "id": "b14f4b60-76bc-460a-a925-1098b31e5376",
   "metadata": {},
   "source": [
    "The `soup` we produced above can be navigated just like any other `BeautifulSoup` object. \n",
    "<br/>\n",
    "In the following, we highlight some interesting features of the raw data, and try to convey an intuition for the difficulties we encounter when preprocessing this raw data to ultimately yield graph representations."
   ]
  },
  {
   "cell_type": "markdown",
   "id": "cf49a586-498f-4a1b-9eb7-c4c921297cb4",
   "metadata": {},
   "source": [
    "### Characters"
   ]
  },
  {
   "cell_type": "markdown",
   "id": "81dc7675-3d9a-4d38-b69a-6431bdc208e9",
   "metadata": {},
   "source": [
    "The data in `data/*.cast.csv` is derived from the `castItem` elements:"
   ]
  },
  {
   "cell_type": "code",
   "execution_count": 8,
   "id": "769cc1a7-721c-430d-ab1b-627314fcdb39",
   "metadata": {
    "scrolled": true,
    "tags": []
   },
   "outputs": [
    {
     "data": {
      "text/plain": [
       "[<castItem xml:id=\"Hermia_MND\">\n",
       " <role>\n",
       " <name>Hermia</name>\n",
       " </role>\n",
       " </castItem>,\n",
       " <castItem xml:id=\"Lysander_MND\">\n",
       " <role>\n",
       " <name>Lysander</name>\n",
       " </role>\n",
       " </castItem>,\n",
       " <castItem xml:id=\"Helena_MND\">\n",
       " <role>\n",
       " <name>Helena</name>\n",
       " </role>\n",
       " </castItem>,\n",
       " <castItem xml:id=\"Demetrius_MND\">\n",
       " <role>\n",
       " <name>Demetrius</name>\n",
       " </role>\n",
       " </castItem>,\n",
       " <castItem xml:id=\"Theseus_MND\">\n",
       " <role>\n",
       " <name>Theseus</name>\n",
       " </role>\n",
       " <roleDesc>duke of Athens</roleDesc>\n",
       " </castItem>,\n",
       " <castItem xml:id=\"Hippolyta_MND\">\n",
       " <role>\n",
       " <name>Hippolyta</name>\n",
       " </role>\n",
       " <roleDesc>queen of the Amazons</roleDesc>\n",
       " </castItem>,\n",
       " <castItem xml:id=\"Egeus_MND\">\n",
       " <role>\n",
       " <name>Egeus</name>\n",
       " </role>\n",
       " <roleDesc>father to Hermia</roleDesc>\n",
       " </castItem>,\n",
       " <castItem xml:id=\"Philostrate_MND\">\n",
       " <role>\n",
       " <name>Philostrate</name>\n",
       " </role>\n",
       " <roleDesc>master of the revels to Theseus</roleDesc>\n",
       " </castItem>,\n",
       " <castItem xml:id=\"Bottom_MND\">\n",
       " <role>\n",
       " <name>Nick Bottom</name>\n",
       " </role>\n",
       " <roleDesc>weaver</roleDesc>\n",
       " </castItem>,\n",
       " <castItem xml:id=\"Quince_MND\">\n",
       " <role>\n",
       " <name>Peter Quince</name>\n",
       " </role>\n",
       " <roleDesc>carpenter</roleDesc>\n",
       " </castItem>,\n",
       " <castItem xml:id=\"Flute_MND\">\n",
       " <role>\n",
       " <name>Francis Flute</name>\n",
       " </role>\n",
       " <roleDesc>bellows-mender</roleDesc>\n",
       " </castItem>,\n",
       " <castItem xml:id=\"Snout_MND\">\n",
       " <role>\n",
       " <name>Tom Snout</name>\n",
       " </role>\n",
       " <roleDesc>tinker</roleDesc>\n",
       " </castItem>,\n",
       " <castItem xml:id=\"Snug_MND\">\n",
       " <role>\n",
       " <name>Snug</name>\n",
       " </role>\n",
       " <roleDesc>joiner</roleDesc>\n",
       " </castItem>,\n",
       " <castItem xml:id=\"Starveling_MND\">\n",
       " <role>\n",
       " <name>Robin Starveling</name>\n",
       " </role>\n",
       " <roleDesc>tailor</roleDesc>\n",
       " </castItem>,\n",
       " <castItem xml:id=\"Oberon_MND\">\n",
       " <role>\n",
       " <name>Oberon</name>\n",
       " </role>\n",
       " <roleDesc>king of the Fairies</roleDesc>\n",
       " </castItem>,\n",
       " <castItem xml:id=\"Titania_MND\">\n",
       " <role>\n",
       " <name>Titania</name>\n",
       " </role>\n",
       " <roleDesc>queen of the Fairies</roleDesc>\n",
       " </castItem>,\n",
       " <castItem xml:id=\"RobinGoodfellow_MND\">\n",
       " <role>\n",
       " <name>Robin Goodfellow</name>\n",
       " </role>\n",
       " <roleDesc>a “puck,” or hobgoblin, in Oberon’s service</roleDesc>\n",
       " </castItem>,\n",
       " <castItem corresp=\"#FAIRIES_MND\" xml:id=\"FAIRIES.TITANIA.1_MND\">\n",
       " <role>\n",
       " <name>A Fairy</name>\n",
       " </role>\n",
       " <roleDesc>in the service of Titania</roleDesc>\n",
       " </castItem>,\n",
       " <castItem corresp=\"#FAIRIES.TITANIA_MND\" xml:id=\"FAIRIES.TITANIA.Peaseblossom_MND\">\n",
       " <role>\n",
       " <name>Peaseblossom</name>\n",
       " </role>\n",
       " </castItem>,\n",
       " <castItem corresp=\"#FAIRIES.TITANIA_MND\" xml:id=\"FAIRIES.TITANIA.Cobweb_MND\">\n",
       " <role>\n",
       " <name>Cobweb</name>\n",
       " </role>\n",
       " </castItem>,\n",
       " <castItem corresp=\"#FAIRIES.TITANIA_MND\" xml:id=\"FAIRIES.TITANIA.Mote_MND\">\n",
       " <role>\n",
       " <name>Mote</name>\n",
       " </role>\n",
       " </castItem>,\n",
       " <castItem corresp=\"#FAIRIES.TITANIA_MND\" xml:id=\"FAIRIES.TITANIA.Mustardseed_MND\">\n",
       " <role>\n",
       " <name>Mustardseed</name>\n",
       " </role>\n",
       " </castItem>,\n",
       " <castItem xml:id=\"ATTENDANTS_MND\"/>,\n",
       " <castItem corresp=\"#ATTENDANTS_MND\" xml:id=\"ATTENDANTS.0.1_MND\"/>,\n",
       " <castItem corresp=\"#ATTENDANTS_MND\" xml:id=\"ATTENDANTS.0.2_MND\"/>,\n",
       " <castItem xml:id=\"FAIRIES_MND\"/>,\n",
       " <castItem corresp=\"#FAIRIES_MND\" xml:id=\"FAIRIES.OBERON_MND\"/>,\n",
       " <castItem corresp=\"#FAIRIES_MND\" xml:id=\"FAIRIES.TITANIA_MND\"/>,\n",
       " <castItem corresp=\"#FAIRIES_MND\" xml:id=\"FAIRIES.TITANIA.0.1_MND\"/>,\n",
       " <castItem corresp=\"#FAIRIES_MND\" xml:id=\"FAIRIES.TITANIA.0.2_MND\"/>]"
      ]
     },
     "execution_count": 8,
     "metadata": {},
     "output_type": "execute_result"
    }
   ],
   "source": [
    "soup.find_all(\"castItem\")"
   ]
  },
  {
   "cell_type": "markdown",
   "id": "7e5752a2-2f01-4222-b3a7-f2efaa67a8a4",
   "metadata": {},
   "source": [
    "### Acts and Scenes"
   ]
  },
  {
   "cell_type": "markdown",
   "id": "e372037a-bba6-4eee-81ea-b55c0ec918eb",
   "metadata": {},
   "source": [
    "Acts and scenes are contained in `<div>` tags:"
   ]
  },
  {
   "cell_type": "code",
   "execution_count": 9,
   "id": "a523c6bb-60fd-49f8-8a9b-8088e183de60",
   "metadata": {},
   "outputs": [
    {
     "data": {
      "text/plain": [
       "[{'type': 'act', 'n': '1'},\n",
       " {'type': 'scene', 'n': '1'},\n",
       " {'type': 'scene', 'n': '2'},\n",
       " {'type': 'act', 'n': '2'},\n",
       " {'type': 'scene', 'n': '1'},\n",
       " {'type': 'scene', 'n': '2'},\n",
       " {'type': 'act', 'n': '3'},\n",
       " {'type': 'scene', 'n': '1'},\n",
       " {'type': 'scene', 'n': '2'},\n",
       " {'type': 'act', 'n': '4'},\n",
       " {'type': 'scene', 'n': '1'},\n",
       " {'type': 'scene', 'n': '2'},\n",
       " {'type': 'act', 'n': '5'},\n",
       " {'type': 'scene', 'n': '1'}]"
      ]
     },
     "execution_count": 9,
     "metadata": {},
     "output_type": "execute_result"
    }
   ],
   "source": [
    "[x.attrs for x in soup.find_all(\"div\")]"
   ]
  },
  {
   "cell_type": "markdown",
   "id": "3c7d596f-b32b-4885-9cec-157303320229",
   "metadata": {},
   "source": [
    "### Stage Directions"
   ]
  },
  {
   "cell_type": "markdown",
   "id": "de3b8b98-0b73-478d-a0e8-4dc8f5061837",
   "metadata": {},
   "source": [
    "Stage directions are contained in `<stage>` tags.\n",
    "<br/>\n",
    "Here are the different types of stage directions present in _A Midsummer Night's Dream_:"
   ]
  },
  {
   "cell_type": "code",
   "execution_count": 10,
   "id": "dfad0fc6-c2d2-4442-a995-cd83b6fbc9c5",
   "metadata": {},
   "outputs": [
    {
     "data": {
      "text/plain": [
       "{'business', 'delivery', 'entrance', 'exit', 'mixed', 'modifier', 'sound'}"
      ]
     },
     "execution_count": 10,
     "metadata": {},
     "output_type": "execute_result"
    }
   ],
   "source": [
    "set(t.get(\"type\") for t in soup.find_all(\"stage\"))"
   ]
  },
  {
   "cell_type": "markdown",
   "id": "a4f0be59-30dc-47b0-bf61-e30268dcf9b3",
   "metadata": {},
   "source": [
    "Our graph representations currently reflect entrances and exits only, as we use stage directions of these types to determine who is on stage when a particular word is spoken. \n",
    "<br/>\n",
    "There are lots of complications here, as the stage directions in the Folger Shakespeare do not make all character exits explicit. \n",
    "We have documented our judgment calls to handle these complications in our code base.\n",
    "<br/>\n",
    "Handling other types of stage directions relevant to the information flow on stage is on our list for future improvements."
   ]
  },
  {
   "cell_type": "markdown",
   "id": "db7132d3-b091-42a0-bf61-588fc9f9022e",
   "metadata": {},
   "source": [
    "To illustrate why, let's take a closer look at the stage directions in _A Midsummer Night's Dream_:"
   ]
  },
  {
   "cell_type": "code",
   "execution_count": 11,
   "id": "1860e552-7915-4dbd-bbe3-6d1c59c87f9a",
   "metadata": {},
   "outputs": [
    {
     "data": {
      "text/html": [
       "<div>\n",
       "<style scoped>\n",
       "    .dataframe tbody tr th:only-of-type {\n",
       "        vertical-align: middle;\n",
       "    }\n",
       "\n",
       "    .dataframe tbody tr th {\n",
       "        vertical-align: top;\n",
       "    }\n",
       "\n",
       "    .dataframe thead th {\n",
       "        text-align: right;\n",
       "    }\n",
       "</style>\n",
       "<table border=\"1\" class=\"dataframe\">\n",
       "  <thead>\n",
       "    <tr style=\"text-align: right;\">\n",
       "      <th></th>\n",
       "      <th>xml:id</th>\n",
       "      <th>n</th>\n",
       "      <th>type</th>\n",
       "      <th>who</th>\n",
       "      <th>text</th>\n",
       "      <th>rendition</th>\n",
       "      <th>ana</th>\n",
       "    </tr>\n",
       "  </thead>\n",
       "  <tbody>\n",
       "    <tr>\n",
       "      <th>0</th>\n",
       "      <td>stg-0000</td>\n",
       "      <td>SD 1.1.0</td>\n",
       "      <td>entrance</td>\n",
       "      <td>#Theseus_MND #Hippolyta_MND #Philostrate_MND #...</td>\n",
       "      <td>Enter Theseus , Hippolyta , and Philostrate , ...</td>\n",
       "      <td>NaN</td>\n",
       "      <td>NaN</td>\n",
       "    </tr>\n",
       "    <tr>\n",
       "      <th>1</th>\n",
       "      <td>stg-0016.1</td>\n",
       "      <td>SD 1.1.16.1</td>\n",
       "      <td>exit</td>\n",
       "      <td>#Philostrate_MND</td>\n",
       "      <td>Philostrate exits .</td>\n",
       "      <td>NaN</td>\n",
       "      <td>NaN</td>\n",
       "    </tr>\n",
       "    <tr>\n",
       "      <th>2</th>\n",
       "      <td>stg-0020.1</td>\n",
       "      <td>SD 1.1.20.1</td>\n",
       "      <td>entrance</td>\n",
       "      <td>#Egeus_MND #Hermia_MND #Lysander_MND #Demetriu...</td>\n",
       "      <td>Enter Egeus and his daughter Hermia , and Lysa...</td>\n",
       "      <td>NaN</td>\n",
       "      <td>NaN</td>\n",
       "    </tr>\n",
       "    <tr>\n",
       "      <th>3</th>\n",
       "      <td>stg-0101.0</td>\n",
       "      <td>SD 1.1.101.0</td>\n",
       "      <td>delivery</td>\n",
       "      <td>NaN</td>\n",
       "      <td>, to Theseus</td>\n",
       "      <td>NaN</td>\n",
       "      <td>NaN</td>\n",
       "    </tr>\n",
       "    <tr>\n",
       "      <th>4</th>\n",
       "      <td>stg-0129.1</td>\n",
       "      <td>SD 1.1.129.1</td>\n",
       "      <td>exit</td>\n",
       "      <td>#Theseus_MND #Hippolyta_MND #Egeus_MND #Demetr...</td>\n",
       "      <td>All but Hermia and Lysander exit .</td>\n",
       "      <td>NaN</td>\n",
       "      <td>NaN</td>\n",
       "    </tr>\n",
       "  </tbody>\n",
       "</table>\n",
       "</div>"
      ],
      "text/plain": [
       "       xml:id             n      type  \\\n",
       "0    stg-0000      SD 1.1.0  entrance   \n",
       "1  stg-0016.1   SD 1.1.16.1      exit   \n",
       "2  stg-0020.1   SD 1.1.20.1  entrance   \n",
       "3  stg-0101.0  SD 1.1.101.0  delivery   \n",
       "4  stg-0129.1  SD 1.1.129.1      exit   \n",
       "\n",
       "                                                 who  \\\n",
       "0  #Theseus_MND #Hippolyta_MND #Philostrate_MND #...   \n",
       "1                                   #Philostrate_MND   \n",
       "2  #Egeus_MND #Hermia_MND #Lysander_MND #Demetriu...   \n",
       "3                                                NaN   \n",
       "4  #Theseus_MND #Hippolyta_MND #Egeus_MND #Demetr...   \n",
       "\n",
       "                                                text rendition  ana  \n",
       "0  Enter Theseus , Hippolyta , and Philostrate , ...       NaN  NaN  \n",
       "1                                Philostrate exits .       NaN  NaN  \n",
       "2  Enter Egeus and his daughter Hermia , and Lysa...       NaN  NaN  \n",
       "3                                       , to Theseus       NaN  NaN  \n",
       "4                 All but Hermia and Lysander exit .       NaN  NaN  "
      ]
     },
     "execution_count": 11,
     "metadata": {},
     "output_type": "execute_result"
    }
   ],
   "source": [
    "stage_df = pd.DataFrame.from_records(\n",
    "    [\n",
    "        {**x.attrs, \"text\": re.sub(\"\\s+\", \" \", x.get_text(\"\").strip())}\n",
    "        for x in soup.find_all(\"stage\")\n",
    "    ]\n",
    ")\n",
    "stage_df.head()"
   ]
  },
  {
   "cell_type": "markdown",
   "id": "86e0750e-dae1-4515-b836-356b62fb1977",
   "metadata": {},
   "source": [
    "The excess whitespace in the `text` column is an artifact of the detailed encoding of the underlying XML source.\n",
    "<br/>\n",
    "We don't need to worry about that for now."
   ]
  },
  {
   "cell_type": "markdown",
   "id": "da79d830-7a16-4698-bda9-51765ba9aafb",
   "metadata": {},
   "source": [
    "But notice, for example, `stg-0101.0`: \n",
    "<br/>\n",
    "The delivery of the speech following the stage direction is modified such that it is heard only by _Theseus_.\n",
    "<br/>\n",
    "Hence, if a graph representation pretends that everyone currently on stage hears that speech, it is misrepresenting the information flow expressed in the raw data.\n",
    "<br/>\n",
    "_All_ Hyperbard representations currently do this, and the example above shows why: \n",
    "<br/>\n",
    "While entrances and exits are systematically annotated with `who` attributes, this does not hold for the other types of stage directions.\n",
    "<br/>\n",
    "Hence, to handle stage directions of other types correctly, we need to parse their text semantically."
   ]
  },
  {
   "cell_type": "markdown",
   "id": "ae84082a-23f3-492b-9db0-7db157141fcb",
   "metadata": {},
   "source": [
    "### Speech"
   ]
  },
  {
   "cell_type": "markdown",
   "id": "009f9aa4-d7f1-47e7-b926-eafc3c4b8004",
   "metadata": {},
   "source": [
    "As all spoken words are descendants of `<sp>` tags, we can extract them and annotate them with their speaker(s) via some XML munging. \n",
    "<br/>\n",
    "We still need to be careful, though, as a closer look at a `<sp>` tag reveals:"
   ]
  },
  {
   "cell_type": "code",
   "execution_count": 12,
   "id": "783bb423-3291-45ae-bf5f-4cd36e4fe086",
   "metadata": {
    "scrolled": true,
    "tags": []
   },
   "outputs": [
    {
     "data": {
      "text/plain": [
       "<sp who=\"#Theseus_MND\" xml:id=\"sp-0001\">\n",
       "<speaker xml:id=\"spk-0001\">\n",
       "<w xml:id=\"fs-mnd-0000240\">THESEUS</w>\n",
       "</speaker>\n",
       "<l n=\"1.1.1\" xml:id=\"ftln-0001\">\n",
       "<w ana=\"#av\" lemma=\"now\" n=\"1.1.1\" xml:id=\"fs-mnd-0000250\">Now</w>\n",
       "<pc n=\"1.1.1\" xml:id=\"fs-mnd-0000260\">,</pc>\n",
       "<c> </c>\n",
       "<w ana=\"#j\" lemma=\"fair\" n=\"1.1.1\" xml:id=\"fs-mnd-0000280\">fair</w>\n",
       "<c> </c>\n",
       "<w ana=\"#n1-nn\" lemma=\"Hippolyta\" n=\"1.1.1\" xml:id=\"fs-mnd-0000300\">Hippolyta</w>\n",
       "<pc n=\"1.1.1\" xml:id=\"fs-mnd-0000310\">,</pc>\n",
       "<c> </c>\n",
       "<w ana=\"#po\" lemma=\"our\" n=\"1.1.1\" xml:id=\"fs-mnd-0000330\">our</w>\n",
       "<c> </c>\n",
       "<w ana=\"#j\" lemma=\"nuptial\" n=\"1.1.1\" xml:id=\"fs-mnd-0000350\">nuptial</w>\n",
       "<c> </c>\n",
       "<w ana=\"#n1\" lemma=\"hour\" n=\"1.1.1\" xml:id=\"fs-mnd-0000370\">hour</w>\n",
       "</l>\n",
       "<l n=\"1.1.2\" xml:id=\"ftln-0002\">\n",
       "<w ana=\"#vvz\" lemma=\"draw\" n=\"1.1.2\" xml:id=\"fs-mnd-0000380\">Draws</w>\n",
       "<c> </c>\n",
       "<w ana=\"#acp-p\" lemma=\"on\" n=\"1.1.2\" xml:id=\"fs-mnd-0000400\">on</w>\n",
       "<c> </c>\n",
       "<w ana=\"#av\" lemma=\"apace\" n=\"1.1.2\" xml:id=\"fs-mnd-0000420\">apace</w>\n",
       "<pc n=\"1.1.2\" xml:id=\"fs-mnd-0000430\">.</pc>\n",
       "<c> </c>\n",
       "<w ana=\"#crd\" lemma=\"four\" n=\"1.1.2\" xml:id=\"fs-mnd-0000450\">Four</w>\n",
       "<c> </c>\n",
       "<w ana=\"#j\" lemma=\"happy\" n=\"1.1.2\" xml:id=\"fs-mnd-0000470\">happy</w>\n",
       "<c> </c>\n",
       "<w ana=\"#n2\" lemma=\"day\" n=\"1.1.2\" xml:id=\"fs-mnd-0000490\">days</w>\n",
       "<c> </c>\n",
       "<w ana=\"#vvb\" lemma=\"bring\" n=\"1.1.2\" xml:id=\"fs-mnd-0000510\">bring</w>\n",
       "<c> </c>\n",
       "<w ana=\"#acp-p\" lemma=\"in\" n=\"1.1.2\" xml:id=\"fs-mnd-0000530\">in</w>\n",
       "</l>\n",
       "<l n=\"1.1.3\" xml:id=\"ftln-0003\">\n",
       "<w ana=\"#d\" lemma=\"another\" n=\"1.1.3\" xml:id=\"fs-mnd-0000540\">Another</w>\n",
       "<c> </c>\n",
       "<w ana=\"#n1\" lemma=\"moon\" n=\"1.1.3\" xml:id=\"fs-mnd-0000560\">moon</w>\n",
       "<pc n=\"1.1.3\" xml:id=\"fs-mnd-0000570\">.</pc>\n",
       "<c> </c>\n",
       "<w ana=\"#acp-cc\" lemma=\"but\" n=\"1.1.3\" xml:id=\"fs-mnd-0000590\">But</w>\n",
       "<pc n=\"1.1.3\" xml:id=\"fs-mnd-0000600\">,</pc>\n",
       "<c> </c>\n",
       "<w ana=\"#uh\" lemma=\"oh\" n=\"1.1.3\" xml:id=\"fs-mnd-0000620\">O</w>\n",
       "<pc n=\"1.1.3\" xml:id=\"fs-mnd-0000630\">,</pc>\n",
       "<c> </c>\n",
       "<w ana=\"#vvz\" lemma=\"methinks\" n=\"1.1.3\" xml:id=\"fs-mnd-0000650\">methinks</w>\n",
       "<c> </c>\n",
       "<w ana=\"#crq-cs\" lemma=\"how\" n=\"1.1.3\" xml:id=\"fs-mnd-0000670\">how</w>\n",
       "<c> </c>\n",
       "<w ana=\"#j\" lemma=\"slow\" n=\"1.1.3\" xml:id=\"fs-mnd-0000690\">slow</w>\n",
       "</l>\n",
       "<l n=\"1.1.4\" xml:id=\"ftln-0004\">\n",
       "<w ana=\"#d\" lemma=\"this\" n=\"1.1.4\" xml:id=\"fs-mnd-0000700\">This</w>\n",
       "<c> </c>\n",
       "<w ana=\"#j\" lemma=\"old\" n=\"1.1.4\" xml:id=\"fs-mnd-0000720\">old</w>\n",
       "<c> </c>\n",
       "<w ana=\"#n1\" lemma=\"moon\" n=\"1.1.4\" xml:id=\"fs-mnd-0000740\">moon</w>\n",
       "<c> </c>\n",
       "<w ana=\"#vvz\" lemma=\"wane\" n=\"1.1.4\" xml:id=\"fs-mnd-0000760\">wanes</w>\n",
       "<pc n=\"1.1.4\" xml:id=\"fs-mnd-0000770\">!</pc>\n",
       "<c> </c>\n",
       "<w ana=\"#pns\" lemma=\"she\" n=\"1.1.4\" xml:id=\"fs-mnd-0000790\">She</w>\n",
       "<c> </c>\n",
       "<w ana=\"#vvz\" lemma=\"linger\" n=\"1.1.4\" xml:id=\"fs-mnd-0000810\">lingers</w>\n",
       "<c> </c>\n",
       "<w ana=\"#po\" lemma=\"my\" n=\"1.1.4\" xml:id=\"fs-mnd-0000830\">my</w>\n",
       "<c> </c>\n",
       "<w ana=\"#n2\" lemma=\"desire\" n=\"1.1.4\" xml:id=\"fs-mnd-0000850\">desires</w>\n",
       "</l>\n",
       "<l n=\"1.1.5\" xml:id=\"ftln-0005\">\n",
       "<w ana=\"#acp-p\" lemma=\"like\" n=\"1.1.5\" xml:id=\"fs-mnd-0000860\">Like</w>\n",
       "<c> </c>\n",
       "<w ana=\"#acp-p\" lemma=\"to\" n=\"1.1.5\" xml:id=\"fs-mnd-0000880\">to</w>\n",
       "<c> </c>\n",
       "<w ana=\"#d\" lemma=\"a\" n=\"1.1.5\" xml:id=\"fs-mnd-0000900\">a</w>\n",
       "<c> </c>\n",
       "<w ana=\"#n1\" lemma=\"stepdame\" n=\"1.1.5\" xml:id=\"fs-mnd-0000920\">stepdame</w>\n",
       "<c> </c>\n",
       "<w ana=\"#cc\" lemma=\"or\" n=\"1.1.5\" xml:id=\"fs-mnd-0000940\">or</w>\n",
       "<c> </c>\n",
       "<w ana=\"#d\" lemma=\"a\" n=\"1.1.5\" xml:id=\"fs-mnd-0000960\">a</w>\n",
       "<c> </c>\n",
       "<w ana=\"#n1\" lemma=\"dowager\" n=\"1.1.5\" xml:id=\"fs-mnd-0000980\">dowager</w>\n",
       "</l>\n",
       "<l n=\"1.1.6\" xml:id=\"ftln-0006\">\n",
       "<w ana=\"#av_j\" lemma=\"long\" n=\"1.1.6\" xml:id=\"fs-mnd-0000990\">Long</w>\n",
       "<c> </c>\n",
       "<w ana=\"#vvg\" lemma=\"wither\" n=\"1.1.6\" xml:id=\"fs-mnd-0001010\">withering</w>\n",
       "<c> </c>\n",
       "<w ana=\"#av\" lemma=\"out\" n=\"1.1.6\" xml:id=\"fs-mnd-0001030\">out</w>\n",
       "<c> </c>\n",
       "<w ana=\"#d\" lemma=\"a\" n=\"1.1.6\" xml:id=\"fs-mnd-0001050\">a</w>\n",
       "<c> </c>\n",
       "<w ana=\"#j\" lemma=\"young\" n=\"1.1.6\" xml:id=\"fs-mnd-0001070\">young</w>\n",
       "<c> </c>\n",
       "<w ana=\"#n1g\" lemma=\"man\" n=\"1.1.6\" xml:id=\"fs-mnd-0001090\">man’s</w>\n",
       "<c> </c>\n",
       "<w ana=\"#n1\" lemma=\"revenue\" n=\"1.1.6\" xml:id=\"fs-mnd-0001110\">revenue</w>\n",
       "<pc n=\"1.1.6\" xml:id=\"fs-mnd-0001120\">.</pc>\n",
       "</l>\n",
       "</sp>"
      ]
     },
     "execution_count": 12,
     "metadata": {},
     "output_type": "execute_result"
    }
   ],
   "source": [
    "soup.find(\"sp\")"
   ]
  },
  {
   "cell_type": "markdown",
   "id": "f156c9f0-07a3-4c1a-92d2-1c12816faab2",
   "metadata": {},
   "source": [
    "Not all `<w>` tags that are descendants of `<sp>` tags are spoken words, and the `<speaker>` tag holds redundant information that is also present, in a more structured form, in the `who` attribute of the `<sp>` tag. \n",
    "<br/>\n",
    "In our data preprocessing, we need to account for lots of little things like this."
   ]
  },
  {
   "cell_type": "code",
   "execution_count": null,
   "id": "799735d5-8cc8-4a12-992f-e606e8c88822",
   "metadata": {},
   "outputs": [],
   "source": []
  }
 ],
 "metadata": {
  "kernelspec": {
   "display_name": "Python 3 (ipykernel)",
   "language": "python",
   "name": "python3"
  },
  "language_info": {
   "codemirror_mode": {
    "name": "ipython",
    "version": 3
   },
   "file_extension": ".py",
   "mimetype": "text/x-python",
   "name": "python",
   "nbconvert_exporter": "python",
   "pygments_lexer": "ipython3",
   "version": "3.9.12"
  }
 },
 "nbformat": 4,
 "nbformat_minor": 5
}
