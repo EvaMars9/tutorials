{
 "cells": [
  {
   "cell_type": "code",
   "execution_count": null,
   "id": "953d5b71-a16f-4ddf-88cb-b3f34bb3c189",
   "metadata": {},
   "outputs": [],
   "source": [
    "%load_ext lab_black"
   ]
  },
  {
   "cell_type": "markdown",
   "id": "e32e4fac-5bc4-4945-b1e5-dc2287f00208",
   "metadata": {},
   "source": [
    "# Explore `rawdata`"
   ]
  },
  {
   "cell_type": "code",
   "execution_count": 11,
   "id": "4af1dd6c-94c2-4c3b-a122-4683ad16c67f",
   "metadata": {},
   "outputs": [],
   "source": [
    "play_raw = rawdata_files[0]"
   ]
  },
  {
   "cell_type": "code",
   "execution_count": 13,
   "id": "ce848add-ec0f-4569-9a2d-3a0c79f91829",
   "metadata": {},
   "outputs": [],
   "source": [
    "with open(play_raw) as f:\n",
    "    soup = BeautifulSoup(f, \"lxml-xml\")"
   ]
  },
  {
   "cell_type": "markdown",
   "id": "1c27cfb1-caa7-4c72-bdb6-f44ca3288d62",
   "metadata": {},
   "source": [
    "The raw data (as provided by [Folger Digital Texts](https://shakespeare.folger.edu/download-the-folger-shakespeare-complete-set/)) looks like this:"
   ]
  },
  {
   "cell_type": "code",
   "execution_count": 25,
   "id": "a01f0381-daf6-4dd0-bdcc-354ef0478017",
   "metadata": {},
   "outputs": [
    {
     "data": {
      "text/plain": [
       "<stage n=\"SD 1.1.0\" type=\"entrance\" who=\"#Theseus_MND #Hippolyta_MND #Philostrate_MND #ATTENDANTS_MND\" xml:id=\"stg-0000\">\n",
       "<w n=\"SD 1.1.0\" xml:id=\"fs-mnd-0000070\">Enter</w>\n",
       "<c> </c>\n",
       "<w n=\"SD 1.1.0\" xml:id=\"fs-mnd-0000090\">Theseus</w>\n",
       "<pc n=\"SD 1.1.0\" xml:id=\"fs-mnd-0000100\">,</pc>\n",
       "<c> </c>\n",
       "<w n=\"SD 1.1.0\" xml:id=\"fs-mnd-0000120\">Hippolyta</w>\n",
       "<pc n=\"SD 1.1.0\" xml:id=\"fs-mnd-0000130\">,</pc>\n",
       "<c> </c>\n",
       "<w n=\"SD 1.1.0\" xml:id=\"fs-mnd-0000150\">and</w>\n",
       "<c> </c>\n",
       "<w n=\"SD 1.1.0\" xml:id=\"fs-mnd-0000170\">Philostrate</w>\n",
       "<pc n=\"SD 1.1.0\" xml:id=\"fs-mnd-0000180\">,</pc>\n",
       "<c> </c>\n",
       "<w n=\"SD 1.1.0\" xml:id=\"fs-mnd-0000200\">with</w>\n",
       "<c> </c>\n",
       "<w n=\"SD 1.1.0\" xml:id=\"fs-mnd-0000220\">others</w>\n",
       "<pc n=\"SD 1.1.0\" xml:id=\"fs-mnd-0000230\">.</pc>\n",
       "</stage>"
      ]
     },
     "execution_count": 25,
     "metadata": {},
     "output_type": "execute_result"
    }
   ],
   "source": [
    "soup.find(\"stage\") # stage direction"
   ]
  },
  {
   "cell_type": "code",
   "execution_count": 26,
   "id": "ac1be549-5890-4985-b251-3e9daf96fdeb",
   "metadata": {},
   "outputs": [
    {
     "data": {
      "text/plain": [
       "<sp who=\"#Theseus_MND\" xml:id=\"sp-0001\">\n",
       "<speaker xml:id=\"spk-0001\">\n",
       "<w xml:id=\"fs-mnd-0000240\">THESEUS</w>\n",
       "</speaker>\n",
       "<l n=\"1.1.1\" xml:id=\"ftln-0001\">\n",
       "<w ana=\"#av\" lemma=\"now\" n=\"1.1.1\" xml:id=\"fs-mnd-0000250\">Now</w>\n",
       "<pc n=\"1.1.1\" xml:id=\"fs-mnd-0000260\">,</pc>\n",
       "<c> </c>\n",
       "<w ana=\"#j\" lemma=\"fair\" n=\"1.1.1\" xml:id=\"fs-mnd-0000280\">fair</w>\n",
       "<c> </c>\n",
       "<w ana=\"#n1-nn\" lemma=\"Hippolyta\" n=\"1.1.1\" xml:id=\"fs-mnd-0000300\">Hippolyta</w>\n",
       "<pc n=\"1.1.1\" xml:id=\"fs-mnd-0000310\">,</pc>\n",
       "<c> </c>\n",
       "<w ana=\"#po\" lemma=\"our\" n=\"1.1.1\" xml:id=\"fs-mnd-0000330\">our</w>\n",
       "<c> </c>\n",
       "<w ana=\"#j\" lemma=\"nuptial\" n=\"1.1.1\" xml:id=\"fs-mnd-0000350\">nuptial</w>\n",
       "<c> </c>\n",
       "<w ana=\"#n1\" lemma=\"hour\" n=\"1.1.1\" xml:id=\"fs-mnd-0000370\">hour</w>\n",
       "</l>\n",
       "<l n=\"1.1.2\" xml:id=\"ftln-0002\">\n",
       "<w ana=\"#vvz\" lemma=\"draw\" n=\"1.1.2\" xml:id=\"fs-mnd-0000380\">Draws</w>\n",
       "<c> </c>\n",
       "<w ana=\"#acp-p\" lemma=\"on\" n=\"1.1.2\" xml:id=\"fs-mnd-0000400\">on</w>\n",
       "<c> </c>\n",
       "<w ana=\"#av\" lemma=\"apace\" n=\"1.1.2\" xml:id=\"fs-mnd-0000420\">apace</w>\n",
       "<pc n=\"1.1.2\" xml:id=\"fs-mnd-0000430\">.</pc>\n",
       "<c> </c>\n",
       "<w ana=\"#crd\" lemma=\"four\" n=\"1.1.2\" xml:id=\"fs-mnd-0000450\">Four</w>\n",
       "<c> </c>\n",
       "<w ana=\"#j\" lemma=\"happy\" n=\"1.1.2\" xml:id=\"fs-mnd-0000470\">happy</w>\n",
       "<c> </c>\n",
       "<w ana=\"#n2\" lemma=\"day\" n=\"1.1.2\" xml:id=\"fs-mnd-0000490\">days</w>\n",
       "<c> </c>\n",
       "<w ana=\"#vvb\" lemma=\"bring\" n=\"1.1.2\" xml:id=\"fs-mnd-0000510\">bring</w>\n",
       "<c> </c>\n",
       "<w ana=\"#acp-p\" lemma=\"in\" n=\"1.1.2\" xml:id=\"fs-mnd-0000530\">in</w>\n",
       "</l>\n",
       "<l n=\"1.1.3\" xml:id=\"ftln-0003\">\n",
       "<w ana=\"#d\" lemma=\"another\" n=\"1.1.3\" xml:id=\"fs-mnd-0000540\">Another</w>\n",
       "<c> </c>\n",
       "<w ana=\"#n1\" lemma=\"moon\" n=\"1.1.3\" xml:id=\"fs-mnd-0000560\">moon</w>\n",
       "<pc n=\"1.1.3\" xml:id=\"fs-mnd-0000570\">.</pc>\n",
       "<c> </c>\n",
       "<w ana=\"#acp-cc\" lemma=\"but\" n=\"1.1.3\" xml:id=\"fs-mnd-0000590\">But</w>\n",
       "<pc n=\"1.1.3\" xml:id=\"fs-mnd-0000600\">,</pc>\n",
       "<c> </c>\n",
       "<w ana=\"#uh\" lemma=\"oh\" n=\"1.1.3\" xml:id=\"fs-mnd-0000620\">O</w>\n",
       "<pc n=\"1.1.3\" xml:id=\"fs-mnd-0000630\">,</pc>\n",
       "<c> </c>\n",
       "<w ana=\"#vvz\" lemma=\"methinks\" n=\"1.1.3\" xml:id=\"fs-mnd-0000650\">methinks</w>\n",
       "<c> </c>\n",
       "<w ana=\"#crq-cs\" lemma=\"how\" n=\"1.1.3\" xml:id=\"fs-mnd-0000670\">how</w>\n",
       "<c> </c>\n",
       "<w ana=\"#j\" lemma=\"slow\" n=\"1.1.3\" xml:id=\"fs-mnd-0000690\">slow</w>\n",
       "</l>\n",
       "<l n=\"1.1.4\" xml:id=\"ftln-0004\">\n",
       "<w ana=\"#d\" lemma=\"this\" n=\"1.1.4\" xml:id=\"fs-mnd-0000700\">This</w>\n",
       "<c> </c>\n",
       "<w ana=\"#j\" lemma=\"old\" n=\"1.1.4\" xml:id=\"fs-mnd-0000720\">old</w>\n",
       "<c> </c>\n",
       "<w ana=\"#n1\" lemma=\"moon\" n=\"1.1.4\" xml:id=\"fs-mnd-0000740\">moon</w>\n",
       "<c> </c>\n",
       "<w ana=\"#vvz\" lemma=\"wane\" n=\"1.1.4\" xml:id=\"fs-mnd-0000760\">wanes</w>\n",
       "<pc n=\"1.1.4\" xml:id=\"fs-mnd-0000770\">!</pc>\n",
       "<c> </c>\n",
       "<w ana=\"#pns\" lemma=\"she\" n=\"1.1.4\" xml:id=\"fs-mnd-0000790\">She</w>\n",
       "<c> </c>\n",
       "<w ana=\"#vvz\" lemma=\"linger\" n=\"1.1.4\" xml:id=\"fs-mnd-0000810\">lingers</w>\n",
       "<c> </c>\n",
       "<w ana=\"#po\" lemma=\"my\" n=\"1.1.4\" xml:id=\"fs-mnd-0000830\">my</w>\n",
       "<c> </c>\n",
       "<w ana=\"#n2\" lemma=\"desire\" n=\"1.1.4\" xml:id=\"fs-mnd-0000850\">desires</w>\n",
       "</l>\n",
       "<l n=\"1.1.5\" xml:id=\"ftln-0005\">\n",
       "<w ana=\"#acp-p\" lemma=\"like\" n=\"1.1.5\" xml:id=\"fs-mnd-0000860\">Like</w>\n",
       "<c> </c>\n",
       "<w ana=\"#acp-p\" lemma=\"to\" n=\"1.1.5\" xml:id=\"fs-mnd-0000880\">to</w>\n",
       "<c> </c>\n",
       "<w ana=\"#d\" lemma=\"a\" n=\"1.1.5\" xml:id=\"fs-mnd-0000900\">a</w>\n",
       "<c> </c>\n",
       "<w ana=\"#n1\" lemma=\"stepdame\" n=\"1.1.5\" xml:id=\"fs-mnd-0000920\">stepdame</w>\n",
       "<c> </c>\n",
       "<w ana=\"#cc\" lemma=\"or\" n=\"1.1.5\" xml:id=\"fs-mnd-0000940\">or</w>\n",
       "<c> </c>\n",
       "<w ana=\"#d\" lemma=\"a\" n=\"1.1.5\" xml:id=\"fs-mnd-0000960\">a</w>\n",
       "<c> </c>\n",
       "<w ana=\"#n1\" lemma=\"dowager\" n=\"1.1.5\" xml:id=\"fs-mnd-0000980\">dowager</w>\n",
       "</l>\n",
       "<l n=\"1.1.6\" xml:id=\"ftln-0006\">\n",
       "<w ana=\"#av_j\" lemma=\"long\" n=\"1.1.6\" xml:id=\"fs-mnd-0000990\">Long</w>\n",
       "<c> </c>\n",
       "<w ana=\"#vvg\" lemma=\"wither\" n=\"1.1.6\" xml:id=\"fs-mnd-0001010\">withering</w>\n",
       "<c> </c>\n",
       "<w ana=\"#av\" lemma=\"out\" n=\"1.1.6\" xml:id=\"fs-mnd-0001030\">out</w>\n",
       "<c> </c>\n",
       "<w ana=\"#d\" lemma=\"a\" n=\"1.1.6\" xml:id=\"fs-mnd-0001050\">a</w>\n",
       "<c> </c>\n",
       "<w ana=\"#j\" lemma=\"young\" n=\"1.1.6\" xml:id=\"fs-mnd-0001070\">young</w>\n",
       "<c> </c>\n",
       "<w ana=\"#n1g\" lemma=\"man\" n=\"1.1.6\" xml:id=\"fs-mnd-0001090\">man’s</w>\n",
       "<c> </c>\n",
       "<w ana=\"#n1\" lemma=\"revenue\" n=\"1.1.6\" xml:id=\"fs-mnd-0001110\">revenue</w>\n",
       "<pc n=\"1.1.6\" xml:id=\"fs-mnd-0001120\">.</pc>\n",
       "</l>\n",
       "</sp>"
      ]
     },
     "execution_count": 26,
     "metadata": {},
     "output_type": "execute_result"
    }
   ],
   "source": [
    "soup.find(\"sp\") # speech"
   ]
  }
 ],
 "metadata": {
  "kernelspec": {
   "display_name": "Python 3 (ipykernel)",
   "language": "python",
   "name": "python3"
  },
  "language_info": {
   "codemirror_mode": {
    "name": "ipython",
    "version": 3
   },
   "file_extension": ".py",
   "mimetype": "text/x-python",
   "name": "python",
   "nbconvert_exporter": "python",
   "pygments_lexer": "ipython3",
   "version": "3.9.12"
  }
 },
 "nbformat": 4,
 "nbformat_minor": 5
}
