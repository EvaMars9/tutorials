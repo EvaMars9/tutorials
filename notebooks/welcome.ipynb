{
 "cells": [
  {
   "cell_type": "code",
   "execution_count": null,
   "id": "48e60c9c-f2af-4332-89eb-61799788f390",
   "metadata": {},
   "outputs": [],
   "source": [
    "%load_ext lab_black"
   ]
  },
  {
   "cell_type": "markdown",
   "id": "5a62f973-b07d-4f6a-8d7e-f79831a2f447",
   "metadata": {},
   "source": [
    "# Welcome to the Hyperbard Tutorials! 🪕"
   ]
  },
  {
   "cell_type": "markdown",
   "id": "23a3eaec-a588-4df1-99f4-202ae1a65282",
   "metadata": {},
   "source": [
    "This notebook serves as the tutorial landing page. \n",
    "\n",
    "Once you have completed the setup and familiarized yourself with our file access conventions (see below), from here, you can go to:\n",
    "- [rawdata.ipynb](./rawdata.ipynb): Explore `rawdata`, i.e., our source data as provided by [Folger Digital Texts](https://shakespeare.folger.edu/download-the-folger-shakespeare-complete-set/).\n",
    "- [data.ipynb](./data.ipynb): Explore `data`, i.e., the preprocessed data underlying the Hyperbard graph representations.\n",
    "- [graphdata.ipynb](./graphdata.ipynb): Explore `graphdata`, i.e., the Hyperbard graph representations.\n",
    "\n",
    "More tutorials will be added as Hyperbard matures. If you are missing something, feel free to submit a Feature Request via [GitHub Issues](https://github.com/hyperbard/tutorials/issues)!"
   ]
  },
  {
   "cell_type": "markdown",
   "id": "0fbec696-20a8-42ab-9ecf-12eae11e307d",
   "metadata": {},
   "source": [
    "## Setup"
   ]
  },
  {
   "cell_type": "markdown",
   "id": "9ed75bcb-6e8f-4746-acc6-7a2b96c96571",
   "metadata": {},
   "source": [
    "The current version of the Hyperbard dataset is distributed with this repository, but in compressed form.\n",
    "\n",
    "Let's uncompress it into our current working directory (in quiet mode and without overwriting already existing files):"
   ]
  },
  {
   "cell_type": "code",
   "execution_count": null,
   "id": "81a1f353-4a4c-4dc9-8b6c-6e8f60329149",
   "metadata": {},
   "outputs": [],
   "source": [
    "!unzip -q -n ../hyperbard_data.zip"
   ]
  },
  {
   "cell_type": "markdown",
   "id": "711c4d6c-8a4e-432d-a837-0dac93eb67dc",
   "metadata": {},
   "source": [
    "## File Access"
   ]
  },
  {
   "cell_type": "markdown",
   "id": "26eba3a8-a2ba-4bdf-8e25-0298ae65ac27",
   "metadata": {},
   "source": [
    "For convenience, we provide the absolute paths to the unzipped data folders in `statics` module."
   ]
  },
  {
   "cell_type": "code",
   "execution_count": null,
   "id": "bbb26dcc-85a8-49e4-be4f-fd67ad6f6502",
   "metadata": {},
   "outputs": [],
   "source": [
    "from glob import glob\n",
    "from statics import RAWDATA_PATH, DATA_PATH, GRAPHDATA_PATH, META_PATH"
   ]
  },
  {
   "cell_type": "code",
   "execution_count": null,
   "id": "74fddcdf-966a-4253-ad1f-08cc67f6a94c",
   "metadata": {},
   "outputs": [],
   "source": [
    "rawdata_files = sorted(glob(f\"{RAWDATA_PATH}/*\"))\n",
    "data_files = sorted(glob(f\"{DATA_PATH}/*\"))\n",
    "graphdata_files = sorted(glob(f\"{GRAPHDATA_PATH}/*\"))\n",
    "meta_files = sorted(glob(f\"{META_PATH}/*\"))"
   ]
  },
  {
   "cell_type": "markdown",
   "id": "16dd7431-fee9-47e8-b324-b2c2f9db9b67",
   "metadata": {},
   "source": [
    "If we sort file paths alphabetically, conveniently, we'll always have \"A Midsummer Night's Dream\" at the beginning of the file list in the `rawdata`, `data`, and `graphdata` folders:"
   ]
  },
  {
   "cell_type": "code",
   "execution_count": null,
   "id": "8b99540c-2b8c-462a-bfcc-3a74e3644143",
   "metadata": {},
   "outputs": [],
   "source": [
    "rawdata_files[0]"
   ]
  },
  {
   "cell_type": "code",
   "execution_count": null,
   "id": "0b5e36d1-bc73-4de3-9bba-9c231d623c3e",
   "metadata": {},
   "outputs": [],
   "source": [
    "data_files[0]"
   ]
  },
  {
   "cell_type": "code",
   "execution_count": null,
   "id": "351db0fd-6486-4501-88d7-7026c08c38f5",
   "metadata": {},
   "outputs": [],
   "source": [
    "graphdata_files[0]"
   ]
  },
  {
   "cell_type": "markdown",
   "id": "a45dd299-f560-4fdd-a81e-5e5f4e0dba47",
   "metadata": {},
   "source": [
    "## Corpus Overview"
   ]
  },
  {
   "cell_type": "markdown",
   "id": "f65e2391-2746-47e0-9f70-21535cc9a6b2",
   "metadata": {},
   "source": [
    "To see what we are getting into, let's take a look at the corpus metadata:"
   ]
  },
  {
   "cell_type": "code",
   "execution_count": null,
   "id": "5ab66f85-3702-47dd-aa11-997c1ad8af57",
   "metadata": {},
   "outputs": [],
   "source": [
    "import pandas as pd"
   ]
  },
  {
   "cell_type": "code",
   "execution_count": null,
   "id": "257f8be5-bbbf-4663-ad6c-f985f7426b13",
   "metadata": {},
   "outputs": [],
   "source": [
    "df = (\n",
    "    pd.read_csv(f\"{META_PATH}/playtypes.csv\", comment=\"#\")\n",
    "    .sort_values(\"play_name\")\n",
    "    .reset_index(drop=True)\n",
    ")"
   ]
  },
  {
   "cell_type": "markdown",
   "id": "dec5a35a-6cb9-4104-be40-22fe0325c4ab",
   "metadata": {},
   "source": [
    "Here are our play type statistics:"
   ]
  },
  {
   "cell_type": "code",
   "execution_count": null,
   "id": "a56ac4b4-f6a7-43dc-a9c2-ed18cff626ec",
   "metadata": {},
   "outputs": [],
   "source": [
    "df.groupby(\"play_type\").count()"
   ]
  },
  {
   "cell_type": "markdown",
   "id": "2edeb376-3c9d-4082-8628-471283ba5b4e",
   "metadata": {},
   "source": [
    "And here are the identifiers of the plays used in all other file names, which reflect the titles of the plays:"
   ]
  },
  {
   "cell_type": "code",
   "execution_count": null,
   "id": "a3031cc4-1b1c-49e2-a615-2ee0721411e7",
   "metadata": {},
   "outputs": [],
   "source": [
    "df"
   ]
  },
  {
   "cell_type": "markdown",
   "id": "1ff5e0d7-5ca1-4e6b-908f-e922b02290bb",
   "metadata": {},
   "source": [
    "## Enjoy! 🎶"
   ]
  }
 ],
 "metadata": {
  "kernelspec": {
   "display_name": "Python 3 (ipykernel)",
   "language": "python",
   "name": "python3"
  },
  "language_info": {
   "codemirror_mode": {
    "name": "ipython",
    "version": 3
   },
   "file_extension": ".py",
   "mimetype": "text/x-python",
   "name": "python",
   "nbconvert_exporter": "python",
   "pygments_lexer": "ipython3",
   "version": "3.9.12"
  }
 },
 "nbformat": 4,
 "nbformat_minor": 5
}
