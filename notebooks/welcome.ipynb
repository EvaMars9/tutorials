{
 "cells": [
  {
   "cell_type": "markdown",
   "id": "5a62f973-b07d-4f6a-8d7e-f79831a2f447",
   "metadata": {},
   "source": [
    "# Welcome to the Hyperbard Tutorials!"
   ]
  },
  {
   "cell_type": "code",
   "execution_count": null,
   "id": "13a06b1d-8584-4a25-8ae4-2166b458348c",
   "metadata": {},
   "outputs": [],
   "source": []
  }
 ],
 "metadata": {
  "kernelspec": {
   "display_name": "Python 3 (ipykernel)",
   "language": "python",
   "name": "python3"
  },
  "language_info": {
   "codemirror_mode": {
    "name": "ipython",
    "version": 3
   },
   "file_extension": ".py",
   "mimetype": "text/x-python",
   "name": "python",
   "nbconvert_exporter": "python",
   "pygments_lexer": "ipython3",
   "version": "3.9.12"
  }
 },
 "nbformat": 4,
 "nbformat_minor": 5
}
